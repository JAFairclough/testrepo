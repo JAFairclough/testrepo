{
 "cells": [
  {
   "cell_type": "markdown",
   "id": "9b16b3f3",
   "metadata": {},
   "source": [
    "# Data Science Tools and Ecosystem"
   ]
  },
  {
   "cell_type": "markdown",
   "id": "4eaeb5f3",
   "metadata": {},
   "source": [
    "In this notebook, Data Science Tools and Ecosystem are summarized."
   ]
  },
  {
   "cell_type": "markdown",
   "id": "ac758b42",
   "metadata": {},
   "source": [
    "## Objectives:\n",
    "- Learned to use Jupyter notebooks\n",
    "- Programming in R and Python\n",
    "- Introduction to Github \n"
   ]
  },
  {
   "cell_type": "markdown",
   "id": "7ffd1dc0",
   "metadata": {},
   "source": [
    "Some of the popular languages that Data Scientists use are:"
   ]
  },
  {
   "cell_type": "markdown",
   "id": "03c5b6d5",
   "metadata": {},
   "source": [
    "ordered list of commonly used programming langauges in data sciene\n",
    "\n",
    "1. R\n",
    "2. Python\n",
    "3. SQL"
   ]
  },
  {
   "cell_type": "markdown",
   "id": "40ad5f8a",
   "metadata": {},
   "source": [
    "Some of the commonly used libraries used by Data Scientists include:\n",
    "    \n",
    "    Ordered list:\n",
    "        1. Pandas\n",
    "        2. SciPy\n",
    "        3. TensorFlow"
   ]
  },
  {
   "cell_type": "markdown",
   "id": "dbdf0e87",
   "metadata": {},
   "source": [
    "\n",
    "|Open source Data Science Tools tool|\n",
    "|-----------------|\n",
    "|Hadoop           | \n",
    "|Apache Spark     |\n",
    "|Knime            |"
   ]
  },
  {
   "cell_type": "markdown",
   "id": "3fa19a3f",
   "metadata": {},
   "source": [
    "### Below are a few examples of evaluating arithmetic expressions in Python"
   ]
  },
  {
   "cell_type": "code",
   "execution_count": 3,
   "id": "08bdaf69",
   "metadata": {
    "scrolled": false
   },
   "outputs": [
    {
     "data": {
      "text/plain": [
       "17"
      ]
     },
     "execution_count": 3,
     "metadata": {},
     "output_type": "execute_result"
    }
   ],
   "source": [
    "#This a simple arithmetic expression to mutiply then add integers\n",
    "(3*4)+5"
   ]
  },
  {
   "cell_type": "code",
   "execution_count": 5,
   "id": "e41b0fd5",
   "metadata": {},
   "outputs": [
    {
     "data": {
      "text/plain": [
       "3.3333333333333335"
      ]
     },
     "execution_count": 5,
     "metadata": {},
     "output_type": "execute_result"
    }
   ],
   "source": [
    "#This will convert 200 minutes to hours by diving by 60\n",
    "200/60"
   ]
  },
  {
   "cell_type": "markdown",
   "id": "f821862b",
   "metadata": {},
   "source": [
    "## Author\n",
    "Javari Fairclough"
   ]
  },
  {
   "cell_type": "code",
   "execution_count": null,
   "id": "882c1e1f",
   "metadata": {},
   "outputs": [],
   "source": []
  }
 ],
 "metadata": {
  "kernelspec": {
   "display_name": "Python 3 (ipykernel)",
   "language": "python",
   "name": "python3"
  },
  "language_info": {
   "codemirror_mode": {
    "name": "ipython",
    "version": 3
   },
   "file_extension": ".py",
   "mimetype": "text/x-python",
   "name": "python",
   "nbconvert_exporter": "python",
   "pygments_lexer": "ipython3",
   "version": "3.11.5"
  }
 },
 "nbformat": 4,
 "nbformat_minor": 5
}
